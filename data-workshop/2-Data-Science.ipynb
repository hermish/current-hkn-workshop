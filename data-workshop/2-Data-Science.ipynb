{
 "cells": [
  {
   "cell_type": "markdown",
   "metadata": {},
   "source": [
    "# Welcome\n",
    "\n",
    "With our fundamentals covered, we can now turn to analyzing some data. You'll notice that the `data` folder contains [three files](https://github.com/hermish/hkn-workshops/tree/master/CS/SP19-data-workshop/data).\n",
    "\n",
    "1. The first one contains the pokemon characteristics (the first column being the id of the pokemon).\n",
    "2. The second one contains information about previous combats. The first two columns contain the ids of the combatants and the third one the id of the winner. Important: The pokemon in the first columns attacks first.\n",
    "\n",
    "Open [these files](https://github.com/hermish/hkn-workshops/tree/master/CS/SP19-data-workshop/data) to get a feel for what the raw data looks like: our data is in a `csv` format which stands for comma-separated values. Basically, our data comes in a table, with entries separated by commas."
   ]
  },
  {
   "cell_type": "markdown",
   "metadata": {},
   "source": [
    "# Introduction: Ash Ketchum\n",
    "\n",
    "Ash Ketchum once stated: \"I want to be the very best, like no one ever was.\" With those words, Ash set out on his quest to become a Pokemon master. Oddly enough, he *still* has not won a single Pokemon League Championship, despite competing in 6. Today, we're going to explore the Pokemon dataset in order to hone our data science techniques and become Pokemon masters!"
   ]
  },
  {
   "cell_type": "markdown",
   "metadata": {},
   "source": [
    "<img src=\"ash.jpg\">"
   ]
  },
  {
   "cell_type": "markdown",
   "metadata": {},
   "source": [
    "## Reading in Data\n",
    "\n",
    "To be able to do anything with this data, we first need to read the data into python. Luckily, this is such a common task that there are already many tools for working with, reading and visualizing data. We'll be using a library called `Pandas` for data analysis. `Pandas` is currently one of the most popular data analysis libraries, and is used in many UC Berkeley Data Science courses. Below, we import Pandas and some other functions to read the data."
   ]
  },
  {
   "cell_type": "code",
   "execution_count": null,
   "metadata": {},
   "outputs": [],
   "source": [
    "import numpy as np # linear algebra\n",
    "import pandas as pd # data processing\n",
    "import matplotlib.pyplot as plt # plotting\n",
    "import seaborn as sns # aesthetics\n",
    "%config InlineBackend.figure_format = 'retina'"
   ]
  },
  {
   "cell_type": "code",
   "execution_count": null,
   "metadata": {},
   "outputs": [],
   "source": [
    "# Read pokemon statistics and print first 10 rows out of 800\n",
    "data = pd.read_csv('data/pokemon.csv')\n",
    "print(len(data))\n",
    "data.head(10)"
   ]
  },
  {
   "cell_type": "markdown",
   "metadata": {},
   "source": [
    "## Visualizing Data: Matplotlib"
   ]
  },
  {
   "cell_type": "markdown",
   "metadata": {},
   "source": [
    "The first step to strong data analysis is being able to visualize the data provided. Matplotlib is a python library that helps us plot data: the most basic plots are line, scatter and histogram plots.\n",
    "\n",
    "- Line plots are usually used when the x-axis is time\n",
    "- Scatterplots are better when we want to check if there is correlation between two variables\n",
    "- Histograms visualize the distribution of numerical data\n",
    "\n",
    "\n",
    "Matplotlib allows us to customize the colors, labels, thickness of lines, title, opacity, grid, figure size... Basically, we can make any graph conceivable, though some are easier than others."
   ]
  },
  {
   "cell_type": "code",
   "execution_count": null,
   "metadata": {},
   "outputs": [],
   "source": [
    "# LINE PLOTS\n",
    "data['Speed'].plot(\n",
    "    kind='line', # Type of plot\n",
    "    color='blue', # Line color\n",
    "    label='Speed', # Legend name\n",
    "    linewidth=1,\n",
    "    alpha = 0.5, # Transparency\n",
    "    grid = True\n",
    ")\n",
    "data['Defense'].plot(\n",
    "    color='green',\n",
    "    label='Defense',\n",
    "    linewidth=1,\n",
    "    alpha = 0.5,\n",
    "    grid = True\n",
    ")\n",
    "\n",
    "plt.legend(loc='upper right') # legend locations\n",
    "plt.xlabel('Pokemon Number') # x-axis label\n",
    "plt.ylabel('Stat') # y-axis label\n",
    "plt.title('Speed and Defense across Pokemon') # Title\n",
    "plt.show()"
   ]
  },
  {
   "cell_type": "code",
   "execution_count": null,
   "metadata": {},
   "outputs": [],
   "source": [
    "# SCATTER PLOT\n",
    "data.plot(\n",
    "    kind='scatter', # Type of plot\n",
    "    x='Attack', # x-axis column\n",
    "    y='Defense', # y-axis column\n",
    "    alpha = 0.5, # Transparency\n",
    "    color = 'red'\n",
    ")\n",
    "plt.xlabel('Attack') # x-axis label\n",
    "plt.ylabel('Defense') # y-axis label\n",
    "plt.title('Attack-Defense Relationship') # Title\n",
    "plt.show()"
   ]
  },
  {
   "cell_type": "code",
   "execution_count": null,
   "metadata": {},
   "outputs": [],
   "source": [
    "# HISTOGRAM\n",
    "data['Speed'].plot( # Choosing what to plot\n",
    "    kind = 'hist', # Type of plot\n",
    "    bins = 50,\n",
    "    figsize = (15, 15) # Size of graph\n",
    ")\n",
    "plt.show()"
   ]
  },
  {
   "cell_type": "markdown",
   "metadata": {},
   "source": [
    "## Manipulating Data: Pandas\n",
    "\n",
    "This list of Pandas functions will come in handy: https://pandas.pydata.org/Pandas_Cheat_Sheet.pdf\n",
    "\n",
    "The table from which we are getting the data from is called a DataFrame. Each of the columns can be thought of as a list or series of data, which can be accessed similar to the way we access elements in a list."
   ]
  },
  {
   "cell_type": "markdown",
   "metadata": {},
   "source": [
    "### Grabbing Data\n",
    "When manipulating our data, it can be helpful to grab specific rows and columns. Here, we use the `head` and `tail` functions to grab the Defense stats of the first 5 Pokemon in our dataset and the Attack stats of the last 5 Pokemon in our dataset."
   ]
  },
  {
   "cell_type": "code",
   "execution_count": null,
   "metadata": {
    "scrolled": false
   },
   "outputs": [],
   "source": [
    "print(data['Defense'].head(5))\n",
    "print(data['Attack'].tail(5))"
   ]
  },
  {
   "cell_type": "markdown",
   "metadata": {},
   "source": [
    "We can access columns with the simple `dot property`. Let's say that we only want to see a Pokemon's name and which row they are in in our dataset. We can simply use `data.Name` to do this!\n",
    "**Note: Column names are case sensitive!**"
   ]
  },
  {
   "cell_type": "code",
   "execution_count": null,
   "metadata": {},
   "outputs": [],
   "source": [
    "names = data.Name\n",
    "names.head(13)"
   ]
  },
  {
   "cell_type": "markdown",
   "metadata": {},
   "source": [
    "We can also access rows and columns using the the `iloc` and `loc` functions. Let's say that we want to grab rows 20 to 23 in our dataset. `tail` and `head` functions can't do this, but `iloc` can!"
   ]
  },
  {
   "cell_type": "code",
   "execution_count": null,
   "metadata": {},
   "outputs": [],
   "source": [
    "middle_rows = data.iloc[20:24]\n",
    "middle_rows"
   ]
  },
  {
   "cell_type": "markdown",
   "metadata": {},
   "source": [
    "Now, let's say we only care about a Pokemon's Types, Attack, and Defense. We can grab these columns with the `loc` function. Notice that to grab columns, we add a `:,` before we specify which columns we want!"
   ]
  },
  {
   "cell_type": "code",
   "execution_count": null,
   "metadata": {},
   "outputs": [],
   "source": [
    "columns = data.loc[:, '#' : 'Defense']\n",
    "columns.head(5)"
   ]
  },
  {
   "cell_type": "markdown",
   "metadata": {},
   "source": [
    "Another helpful function is the `drop` function. It's pretty self explanatory, so you can read the documentation yourself on the Pandas cheat sheet: https://pandas.pydata.org/Pandas_Cheat_Sheet.pdf"
   ]
  },
  {
   "cell_type": "markdown",
   "metadata": {},
   "source": [
    "### Filtering and Concatenating Data"
   ]
  },
  {
   "cell_type": "markdown",
   "metadata": {},
   "source": [
    "We can also filter data easily. Let's say we want to show all the pokemon with more than 200 defense. We do this by checking if the defense of each row is greater than 200 and then only asking for the rows for which this is true. It turns out that there are only 3 pokemon like this! Change the condition to see what else you can discover."
   ]
  },
  {
   "cell_type": "code",
   "execution_count": null,
   "metadata": {
    "scrolled": true
   },
   "outputs": [],
   "source": [
    "strong_defenders = data['Defense'] > 200\n",
    "data[strong_defenders]"
   ]
  },
  {
   "cell_type": "markdown",
   "metadata": {},
   "source": [
    "What if we want to find all the Pokemon with more than 175 attack? This is easy too!"
   ]
  },
  {
   "cell_type": "code",
   "execution_count": null,
   "metadata": {},
   "outputs": [],
   "source": [
    "strong_attackers = data['Attack'] > 175\n",
    "data[strong_attackers]"
   ]
  },
  {
   "cell_type": "markdown",
   "metadata": {},
   "source": [
    "If we want to build a super strong Attack/Defense Pokemon team, we can use `pd.concat` to add these two sets of data to form a new dataset!"
   ]
  },
  {
   "cell_type": "code",
   "execution_count": null,
   "metadata": {},
   "outputs": [],
   "source": [
    "strong_pokemon = pd.concat([data[strong_defenders], data[strong_attackers]])\n",
    "strong_pokemon"
   ]
  },
  {
   "cell_type": "markdown",
   "metadata": {},
   "source": [
    "### Assignment: Build Ash's Team"
   ]
  },
  {
   "cell_type": "markdown",
   "metadata": {},
   "source": [
    "Now, we have enough tools to build Ash's team! Ash's Pokemon are the following:\n",
    "-  Pikachu\n",
    "-  Squirtle\n",
    "-  Bulbasaur\n",
    "-  Tauros\n",
    "-  Lapras\n",
    "-  Charizard\n",
    "\n",
    "Use your data analysis skills to grab the rows containing these 6 Pokemon and add them to a new dataframe!\n",
    "\n",
    "*Hint: Use filtering and concatenation*"
   ]
  },
  {
   "cell_type": "code",
   "execution_count": null,
   "metadata": {},
   "outputs": [],
   "source": [
    "pikachu = data[data['Name'] == 'Pikachu']\n",
    "squirtle = data[data['Name'] == 'Squirtle']\n",
    "bulbasaur = data[data['Name'] == 'Bulbasaur']\n",
    "tauros = data[data['Name'] == 'Tauros']\n",
    "lapras = data[data['Name'] == 'Lapras']\n",
    "charizard = data[data['Name'] == 'Charizard']\n",
    "\n",
    "ash_team = pd.concat([pikachu, squirtle, bulbasaur, tauros, lapras, charizard])\n",
    "ash_team\n",
    "\n",
    "# entries = data['Name'].isin(['Pikachu', 'Squirtle', 'Bulbasaur', 'Tauros', 'Lapras', 'Charizard'])\n",
    "# ash_team = data[entries]\n",
    "# ash_team"
   ]
  },
  {
   "cell_type": "markdown",
   "metadata": {},
   "source": [
    "### Sorting Data"
   ]
  },
  {
   "cell_type": "markdown",
   "metadata": {},
   "source": [
    "We successfully built Ash's team! However, it seems like the Pokemon are a bit out of order. Let's fix that with the `pd.sort_values()` function."
   ]
  },
  {
   "cell_type": "code",
   "execution_count": null,
   "metadata": {},
   "outputs": [],
   "source": [
    "#First argument of sort_values is the column by which we are sorting\n",
    "#Second argument determines whether we want to sort from lowest to highest or highest to lowest.\n",
    "#Set ascending to True if we want to sort from lowest to highest\n",
    "\n",
    "ash_team = ash_team.sort_values('#', ascending = True)\n",
    "ash_team"
   ]
  },
  {
   "cell_type": "markdown",
   "metadata": {},
   "source": [
    "## Data Analysis: Pandas\n",
    "\n",
    "Now we can analyze of the data on the pokemon—the easiest way to get an idea of how how data looks is to plot some of it and get a few facts about it. Luckily for us, it is really easy to get the following from our table:\n",
    "\n",
    "- count: number of entries\n",
    "- mean: the average numberr, over all pokemon\n",
    "- std: standard deviation, measures how spread out the data is\n",
    "- min: minimum entry\n",
    "- 25%: first quantile (25% are below)\n",
    "- 50%: median or second quantile (50% are below)\n",
    "- 75%: third quantile (75% are below)\n",
    "- max: maximum entry"
   ]
  },
  {
   "cell_type": "code",
   "execution_count": null,
   "metadata": {},
   "outputs": [],
   "source": [
    "data.describe()"
   ]
  },
  {
   "cell_type": "markdown",
   "metadata": {},
   "source": [
    "From this overview, we can easily see the minimimum and maximum for each of these statistics. To visualize this, we often use a boxplot, which allows us to easily picture the average, spread and outliers. The black bars the top and bottom show the maximum and minimum data points. The red line in the middle is at the mean and the box shows the distance from the 25th to the 75th percentile."
   ]
  },
  {
   "cell_type": "code",
   "execution_count": null,
   "metadata": {},
   "outputs": [],
   "source": [
    "data.boxplot(\n",
    "    column='Attack'\n",
    ")\n",
    "plt.show()"
   ]
  },
  {
   "cell_type": "markdown",
   "metadata": {},
   "source": [
    "Notice that some of our pokemon are legendary while others are not. We might guess that the attack of legendary pokemon are greater than non-legendary pokemon. We could test our hypothesis by creating a boxplot for the attacks of each group. We can easily do this using the `by` keyword."
   ]
  },
  {
   "cell_type": "code",
   "execution_count": null,
   "metadata": {
    "scrolled": false
   },
   "outputs": [],
   "source": [
    "data.boxplot(\n",
    "    column='Attack', # Column plotting\n",
    "    by='Legendary' # Group\n",
    ")\n",
    "plt.show()"
   ]
  },
  {
   "cell_type": "markdown",
   "metadata": {},
   "source": [
    "Now, let's compare Ash's team statistics to the general Pokemon dataset statistics."
   ]
  },
  {
   "cell_type": "code",
   "execution_count": null,
   "metadata": {},
   "outputs": [],
   "source": [
    "ash_team.describe()"
   ]
  },
  {
   "cell_type": "code",
   "execution_count": null,
   "metadata": {},
   "outputs": [],
   "source": [
    "data.describe()"
   ]
  },
  {
   "cell_type": "markdown",
   "metadata": {},
   "source": [
    "From the describe methods, we see that Ash's pokemon have very average stats. If Ash had known this, maybe he would have trained and evolved them so that he could be more competitive in the Pokemon league!"
   ]
  },
  {
   "cell_type": "markdown",
   "metadata": {},
   "source": [
    "# Extra: Heat Maps\n",
    "\n",
    "Finally, there's a lot more interesting figures we can make using python. For example, when we plotted attack and defense they seemed to be linked or *correlated*.\n",
    "\n",
    "In general, we can test how strongly two variables are correlated they are using the \"Pearson product-moment correlation coefficient.\" This number will always be between +1 and -1. More extreme numbers (near $\\pm1$) mean the correlation is strong, while numbers closer to zero indicate that the variables are less strongly linked.\n",
    "\n",
    "We can visualize how all the variables are correlated by plotting these values in a heat map. The more strongly correlated values are more strongly colored."
   ]
  },
  {
   "cell_type": "code",
   "execution_count": null,
   "metadata": {
    "scrolled": false
   },
   "outputs": [],
   "source": [
    "f, ax = plt.subplots(figsize=(6, 6))\n",
    "sns.heatmap(\n",
    "    data.corr(),\n",
    "    annot=True,\n",
    "    linewidths=.5,\n",
    "    fmt= '.1f',\n",
    "    ax=ax\n",
    ")\n",
    "plt.show()"
   ]
  },
  {
   "cell_type": "markdown",
   "metadata": {
    "collapsed": true
   },
   "source": [
    "## Assignment: Build your own Pokemon Team\n",
    "Now, let's put your skills to the test: build your ultimate Pokemon team. Use your data analysis skills to find 6 Pokemon with the best combination of attack, defense, speed, etc. to defeat your opponents. A good team should have the following qualities:\n",
    "-  A wide variety of Pokemon types, so your team won't have any weaknesses\n",
    "-  High stat totals, so you can outclass your opponents\n",
    "\n",
    "Create a new dataframe that contains only your 6 Pokemon using the Pokemon dataset that is provided. Then, plot some graphs that show off your team's statistics."
   ]
  },
  {
   "cell_type": "code",
   "execution_count": null,
   "metadata": {},
   "outputs": [],
   "source": [
    "#Build the best 6 Pokemon team you possibly can.\n",
    "\n",
    "### YOUR CODE HERE ###\n",
    "\n",
    "#Plot some graphs that show off your team's statistics.\n",
    "\n",
    "### YOUR CODE HERE ###"
   ]
  },
  {
   "cell_type": "markdown",
   "metadata": {},
   "source": [
    "## Challenge Assignment: Sahai, the Shapeshifting Pokemon\n",
    "UC Berkeley Pokemon trainers have been beating Stanford Pokemon trainers for decades. Recently, however, Stanford has acquired some powerful Pokemon that are difficult to beat. Thus, Berkeley Labs are trying to synthesize a new, ultimate Pokemon that can shapeshift its stats to beat any opponent.\n",
    "\n",
    "The shapeshifting Pokemon, named \"Sahai\", has three shape-shifting forms: Attack, Defense, and Speed. These shapeshifting forms are a set of statistics that are \"stolen\" from another Pokemon. Each form has the following criteria:\n",
    "-  The stat line is \"stolen\" from another Pokemon (Ex. Attack form may be Pikachu's exact statistics)\n",
    "-  The stat line for Attack form must have attack in the top 10 of all the Pokemon in the dataset, the stat line for Defense form must have defense in the top 10 of all the Pokemon in the dataset, etc.\n",
    "-  No stat line can have any statistic that is below average\n",
    "\n",
    "Create a new dataframe that contains the three forms that Sahai can shapeshift into. Then, write a function that takes in the stats of the Pokemon that it is battling against, and returns the shapeshifting form that it will take on to win the battle."
   ]
  },
  {
   "cell_type": "code",
   "execution_count": null,
   "metadata": {},
   "outputs": [],
   "source": [
    "#Build the Sahai shapeshifting dataframe\n",
    "\n",
    "### YOUR CODE HERE ###\n",
    "\n",
    "#Write the shapeshifting function\n",
    "\n",
    "def shapeshift(opponent_stats):\n",
    "    ### YOUR CODE HERE ###"
   ]
  }
 ],
 "metadata": {
  "kernelspec": {
   "display_name": "Python 3",
   "language": "python",
   "name": "python3"
  },
  "language_info": {
   "codemirror_mode": {
    "name": "ipython",
    "version": 3
   },
   "file_extension": ".py",
   "mimetype": "text/x-python",
   "name": "python",
   "nbconvert_exporter": "python",
   "pygments_lexer": "ipython3",
   "version": "3.6.8"
  }
 },
 "nbformat": 4,
 "nbformat_minor": 2
}
