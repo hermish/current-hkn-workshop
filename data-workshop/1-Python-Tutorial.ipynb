{
 "cells": [
  {
   "cell_type": "markdown",
   "metadata": {},
   "source": [
    "# Python Introduction"
   ]
  },
  {
   "cell_type": "markdown",
   "metadata": {},
   "source": [
    "## Welcome\n",
    "\n",
    "This iPython notebook should teach you the basics of programming in python and using python for image manipulation and Turtle Graphics! If you have any questions, don't be afraid to ask! We don't byte, I swear ([Pun entirely intended](https://simple.wikipedia.org/wiki/Byte)). First, we'll introduce the basics of iPython to get you up and running. Then at the end we'll give you lots of ideas for projects you can do.\n",
    "\n",
    "iPython code is written in cells which you can run individually, but data from one can be used in another. First, locate this set of buttons in the toolbar above.\n",
    "\n",
    "<img src=\"resources/toolbar.png\" width=\"100px\" style=\"float: center\"/>\n",
    "\n",
    "To run a cell, click on the cell so it's highlighted green, then click the leftmost button in that group, the \"Run Cell\" button. Try this on the code cell below:"
   ]
  },
  {
   "cell_type": "code",
   "execution_count": null,
   "metadata": {},
   "outputs": [],
   "source": [
    "# This is a code cell! You can click here to edit Python code (although there\n",
    "# isn't anything to do here), then click on the \"Run\" button above to run it.\n",
    "\n",
    "print(\"Hello, world!\")"
   ]
  },
  {
   "cell_type": "markdown",
   "metadata": {
    "collapsed": true
   },
   "source": [
    "*Woah, that did a thing!*\n",
    "\n",
    "`print()` displays the message between the parentheses below the code cell. `print()` statements are very useful, as you'll soon see. You'll also soon see why the message is in quotes.\n",
    "\n",
    "And Python can do many more things, as we'll see shortly. First, though, there are two more buttons in the toolbar group above. You shouldn't need the rightmost one, but the center one (with the square) may be helpful. This is the \"Stop Cell\" button, and it can be used to, oddly enough, stop a cell from running. If you're tired of a cell running, you can click on the offending cell then click this button to stop it. We won't demonstrate it here, but it's there if you need it.\n",
    "\n",
    "Even if a cell doesn't have any code for you to write or edit, you should run it anyway! Later parts may depend on code from earlier parts..."
   ]
  },
  {
   "cell_type": "markdown",
   "metadata": {},
   "source": [
    "### A Brief Introduction to Python...\n",
    "\n",
    "We're probably getting a bit ahead of ourselves here. First, **what is Python?**\n",
    "\n",
    "Python is a popular **programming language**, which means it allows you to tell a computer <i>exactly</i> what to do with special text called code. Although Python is only one of many such programming languages, it's very similar to a lot of others, so whatever you learn in Python can easily be transferred to other languages. Other popular programming languages include Java, C, and JavaScript.\n",
    "\n",
    "*iPython*, on the other hand, is just an environment for running Python in a web browser, with text and graphics along with the code (as we're including here). As a result, learning coding in iPython means you're actually just learning Python!\n",
    "<br>\n",
    "\n",
    "#### Comments: A Comment\n",
    "\n",
    "Additionally, we should introduce <b>comments,</b> which you may have noticed above. Anything after a hashtag (**#**) in a line of Python code isn't actually run; it's just there as a note by the programmer. These are really useful to document what code does in-line with the code itself, and using them is considered *really* good coding practice."
   ]
  },
  {
   "cell_type": "markdown",
   "metadata": {},
   "source": [
    "## Let's get started: Variables\n",
    "\n",
    "We're going to jump right into **variables.** Much like in algebra, variables in programming allow us to put a placeholder in our code to \"stand-in\" for a value. Unlike in algebra, however, variables in programming can stand in for much more than just numbers, like strings of text (called **strings,** oddly enough) and much more!\n",
    "\n",
    "Variables in Python are defined with an equals sign, with the name of the variable on the left and the initial value on the right. Fill in the variables in the code cell below by replacing the written values to the right of the equals sign with your own answers!"
   ]
  },
  {
   "cell_type": "code",
   "execution_count": null,
   "metadata": {},
   "outputs": [],
   "source": [
    "# Fill in your first and last name below by replacing FirstName and LastName\n",
    "# These are string types, and when you type string values they're surrounded\n",
    "# with quotes.\n",
    "\n",
    "first_name = \"Steve\"\n",
    "last_name = \"Jobs\"\n",
    "\n",
    "# Strings can be combined using the + operator This is called string\n",
    "# concatenation\n",
    "full_name = first_name + \" \" + last_name\n",
    "\n",
    "# While we're at it, what's your favorite color?\n",
    "favorite_color = \"Purple\"\n",
    "\n",
    "# Now, what's your favorite number? This is a number type. Notice it doesn't\n",
    "# have quotes? Numbers don't have them.\n",
    "favorite_number = 0\n",
    "\n",
    "# Is this lab cool? This is called a boolean type, it can either be True or\n",
    "# False. The correct answer here is True, by the way ;)\n",
    "lab_cool = True"
   ]
  },
  {
   "cell_type": "markdown",
   "metadata": {},
   "source": [
    "Run the cell above, and you'll notice it doesn't seem to do anything yet. Let's fix that! Run this cell:"
   ]
  },
  {
   "cell_type": "code",
   "execution_count": null,
   "metadata": {},
   "outputs": [],
   "source": [
    "# We can view the values of variables with print()\n",
    "print(\"Full name:\", full_name)"
   ]
  },
  {
   "cell_type": "markdown",
   "metadata": {},
   "source": [
    "Try playing around with the print() statement above. See if you can get it to print out the other variables you declared above. Once you're satisfied, feel free to move on."
   ]
  },
  {
   "cell_type": "markdown",
   "metadata": {},
   "source": [
    "## Lists\n",
    "\n",
    "Python also has something called a **list**, (an **array** in some other languages) which allows us to store multiple values in one variable. You can then access the values by *indexing* into the list, as we'll see below. Note that lists are kind of weird, in that the first index is actually position *zero.*"
   ]
  },
  {
   "cell_type": "code",
   "execution_count": null,
   "metadata": {},
   "outputs": [],
   "source": [
    "# We create the list here, starting with your first and last name in the\n",
    "# first two positions. Notice how we can use values and variables\n",
    "# interchangeably.\n",
    "info = [first_name, last_name, \"Hello!\"]\n",
    "\n",
    "# We print out the first value of the list, by indexing into position zero\n",
    "print(\"info[0]: \" + info[0])\n",
    "\n",
    "# We can also change the value at a particular index in the list. Try\n",
    "# putting a nickname in place of your first name!\n",
    "info[0] = \"Jeeves\"\n",
    "\n",
    "# Notice how the value at info[0] changed?\n",
    "print(\"info[0], redux: \" + info[0])\n",
    "\n",
    "# We can also just print out the whole list!\n",
    "print(\"info:\", info)\n",
    "\n",
    "# We can even add your favorite color!\n",
    "info = info + [favorite_color]\n",
    "\n",
    "print(\"info:\", info)"
   ]
  },
  {
   "cell_type": "markdown",
   "metadata": {},
   "source": [
    "## Functions\n",
    "\n",
    "Python has many built-in functions which *do things.* Functions take *arguments*, which are the comma-separated values in between the parentheses following the function name. You can even write your own functions, but we'll get into that later.\n",
    "\n",
    "We've already seen the `print()` function, which \"prints out\" its arguments, but there are many more. For now, however, we'll mostly be using `print()` and functions to manipulate data. Speaking of which...\n",
    "\n",
    "## Loops\n",
    "\n",
    "Wow, that was a lot of work! Instead, we can simplify the code by using\n",
    "*loops.* There are two popular types of loops, `for` and `while` loops. First we'll take a look at the `for` loop.  "
   ]
  },
  {
   "cell_type": "code",
   "execution_count": null,
   "metadata": {},
   "outputs": [],
   "source": [
    "# This loop prints the numbers 0 through 4\n",
    "for i in range(0, 5, 1):\n",
    "    print(i)"
   ]
  },
  {
   "cell_type": "markdown",
   "metadata": {},
   "source": [
    "Wow, that loop did so much stuff! Let's break it down.\n",
    "\n",
    "- Firstly, you probably noticed that the `print()` function call above is indented. Python uses indentation to group things together, so everything indented by one or more tabs under the `for` declaration will be looped over.\n",
    "- For loops starts with the `for` keyword that's highlighted in green. \n",
    "- Next is the variable name `i` which stores the current loop value. `in` is another necessary keyword. \n",
    "- Finally, we have the function `range(start, stop, step)` that takes in three arguments. `range()` returns numbers from `start` up to, but not including, `stop`, incrementing by size `step`.\n",
    "\n",
    "We can even `for` loop over the contents of a list!"
   ]
  },
  {
   "cell_type": "code",
   "execution_count": null,
   "metadata": {},
   "outputs": [],
   "source": [
    "# Here we loop over the contents of this list building up the variable\n",
    "# \"concatenated\" as we go\n",
    "\n",
    "first_name_space = first_name + \" \"\n",
    "last_name_space = last_name + \" \"\n",
    "loop_over_me = [first_name_space, last_name_space, \"is \", \"the \", \"best\"]\n",
    "\n",
    "concatenated = \"\"\n",
    "for element in loop_over_me:\n",
    "    concatenated = concatenated + element\n",
    "    print(element)\n",
    "\n",
    "print(\"Concatenated string:\", concatenated)"
   ]
  },
  {
   "cell_type": "markdown",
   "metadata": {},
   "source": [
    "`For` loops are great for iterating through an item of *known length*. But what if we don't know the length of the item that we want to iterate through? Introducing `while` loops!"
   ]
  },
  {
   "cell_type": "markdown",
   "metadata": {},
   "source": [
    "Let's make a simple dice game: We have a dice, and we win if we roll a 6. We want to see how many rolls it takes to win. Let's use a `while` loop to do this!"
   ]
  },
  {
   "cell_type": "code",
   "execution_count": null,
   "metadata": {},
   "outputs": [],
   "source": [
    "import random as random\n",
    "rolled_number = random.randrange(1,7)\n",
    "attempts = 0\n",
    "\n",
    "while (rolled_number != 6):\n",
    "    print(\"You rolled a\", rolled_number)\n",
    "    attempts += 1\n",
    "    rolled_number = random.randrange(1,7)\n",
    "\n",
    "print(\"You rolled a\", rolled_number)\n",
    "print(\"It took you:\", attempts, \"attempts to roll a 6!\")"
   ]
  },
  {
   "cell_type": "markdown",
   "metadata": {},
   "source": [
    "Wow, that loop was awesome! Let's examine what's happening here:\n",
    "- Again, everything that we want in the `while` loops is indented.\n",
    "- `while` loops work by checking a *condition* after each iteration. Here, we are checking if our rolled number was a 6. We put the conditional in parentheses for good style.\n",
    "- Notice how we had no idea when we would roll a 6––this is when `while` loops come in handy and are better than `for` loops!\n",
    "- If we did not roll a 6, we rolled again, while keeping track of the number of attempts we made."
   ]
  },
  {
   "cell_type": "markdown",
   "metadata": {},
   "source": [
    "## Conditionals\n",
    "\n",
    "We've done a lot so far, but we're not done yet! Next we're going to discuss conditional statements, which are *super important* in programming. We'll start with an example. Try running this cell with different values of `i`."
   ]
  },
  {
   "cell_type": "code",
   "execution_count": null,
   "metadata": {},
   "outputs": [],
   "source": [
    "# Try different values of i and see what's printed!\n",
    "i = 0\n",
    "\n",
    "if i < 0: # Checked first\n",
    "    print(\"Negative\")\n",
    "elif i > 0: # Checked next\n",
    "    print(\"Positive\")\n",
    "else: # Last\n",
    "    print(\"Zero\")"
   ]
  },
  {
   "cell_type": "markdown",
   "metadata": {},
   "source": [
    "## Functions, Part 2\n",
    "\n",
    "At this point, you've used plenty of other people's functions, such as `print`. But it turns out you can also write your own!\n",
    "\n",
    "Functions allow you to write a section of code once and easily reuse it elsewhere in your program. Like loops and conditional statements, functions use indentation to group lines of code together. In Python, you *define* a function with a `def` statement. Run the code cell below for an example."
   ]
  },
  {
   "cell_type": "code",
   "execution_count": null,
   "metadata": {},
   "outputs": [],
   "source": [
    "def range_print(end):\n",
    "    for i in range(0, end + 1, 1):\n",
    "        print(i)"
   ]
  },
  {
   "cell_type": "markdown",
   "metadata": {},
   "source": [
    "Well that's strange, it didn't *do anything*. What happens if we try to call it like we've been doing?"
   ]
  },
  {
   "cell_type": "code",
   "execution_count": null,
   "metadata": {},
   "outputs": [],
   "source": [
    "range_print(5)"
   ]
  },
  {
   "cell_type": "markdown",
   "metadata": {},
   "source": [
    "**Woah, look at that!**\n",
    "\n",
    "Functions are even more powerful though. Instead of just printing things, they can also *return* data back to the function caller with the `return` keyword. Run this example to see:"
   ]
  },
  {
   "cell_type": "code",
   "execution_count": null,
   "metadata": {},
   "outputs": [],
   "source": [
    "def range_return(start, end):\n",
    "    lst = []\n",
    "    for i in range(start, end + 1, 1):\n",
    "        lst = lst + [i]\n",
    "    return lst"
   ]
  },
  {
   "cell_type": "code",
   "execution_count": null,
   "metadata": {},
   "outputs": [],
   "source": [
    "print(range_return(1, 5))"
   ]
  },
  {
   "cell_type": "markdown",
   "metadata": {},
   "source": [
    "*So what's happening here?*\n",
    "\n",
    "The function `range_return()` returns a list of values in the specified range (inclusive on both bounds, try to figure out why). Then, the `print()` function takes that list as an argument and prints the list!"
   ]
  },
  {
   "cell_type": "code",
   "execution_count": null,
   "metadata": {},
   "outputs": [],
   "source": []
  }
 ],
 "metadata": {
  "kernelspec": {
   "display_name": "Python 3",
   "language": "python",
   "name": "python3"
  },
  "language_info": {
   "codemirror_mode": {
    "name": "ipython",
    "version": 3
   },
   "file_extension": ".py",
   "mimetype": "text/x-python",
   "name": "python",
   "nbconvert_exporter": "python",
   "pygments_lexer": "ipython3",
   "version": "3.6.8"
  }
 },
 "nbformat": 4,
 "nbformat_minor": 2
}
